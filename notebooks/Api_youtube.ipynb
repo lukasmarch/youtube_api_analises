{
 "cells": [
  {
   "cell_type": "markdown",
   "id": "6fa9e7ff-85c6-4161-8925-110ae575cb85",
   "metadata": {
    "tags": []
   },
   "source": [
    "### Get channel statistics"
   ]
  },
  {
   "cell_type": "code",
   "execution_count": 2,
   "id": "f2f537e2",
   "metadata": {},
   "outputs": [],
   "source": [
    "from googleapiclient.discovery import build\n",
    "\n",
    "from  os import environ\n",
    "\n",
    "import pandas as pd \n",
    "import numpy as np\n",
    "\n",
    "from dotenv import load_dotenv\n",
    "\n",
    "import matplotlib.ticker as ticker\n",
    "import matplotlib.pyplot  as plt\n",
    "import seaborn as sns\n",
    "\n",
    "from IPython.display import display, JSON"
   ]
  },
  {
   "cell_type": "markdown",
   "id": "d2a18dd0",
   "metadata": {},
   "source": [
    "### Youtube API"
   ]
  },
  {
   "cell_type": "code",
   "execution_count": 4,
   "id": "91ac0043",
   "metadata": {},
   "outputs": [],
   "source": [
    "chanel_ids = ['UCKQdc0-Targ4nDIAUrlfKiA', \n",
    "              'UCJQJAI7IjbLcpsjWdSzYz0Q',\n",
    "             'UCcJQ96WlEhJ0Ve0SLmU310Q',\n",
    "             'UCirb0k3PnuQnRjh8tTJHJuA',\n",
    "             'UCqO40lbcG_j5R3imKDrYijQ']\n",
    "\n",
    "load_dotenv()\n",
    "api_key = environ.get(\"api_key\")\n",
    "\n",
    "api_service_name = \"youtube\"\n",
    "api_version = \"v3\"\n",
    "\n",
    "# Get credentials and create an API client\n",
    "youtube = build(\n",
    "    api_service_name, api_version, developerKey = api_key)"
   ]
  },
  {
   "cell_type": "code",
   "execution_count": 5,
   "id": "086201b4",
   "metadata": {
    "scrolled": true
   },
   "outputs": [],
   "source": [
    "def get_chanel_stats(youtube, chanel_ids):\n",
    "\n",
    "    all_data  = []\n",
    "    \n",
    "    request = youtube.channels().list(\n",
    "        part=\"snippet,contentDetails,statistics\",\n",
    "        id=','.join(chanel_ids)\n",
    "    )\n",
    "    response = request.execute()\n",
    "    \n",
    "    # loop through items\n",
    "    for item in response['items']:\n",
    "        data = {'channelName': item['snippet']['title'],\n",
    "                'subscribers': item['statistics']['subscriberCount'],\n",
    "                'views': item['statistics']['viewCount'],\n",
    "                'totalVideos': item['statistics']['videoCount'],\n",
    "                'playlistId': item['contentDetails']['relatedPlaylists']['uploads']\n",
    "        }\n",
    "\n",
    "        all_data.append(data)\n",
    "    return(pd.DataFrame(all_data))\n",
    "\n"
   ]
  },
  {
   "cell_type": "code",
   "execution_count": 6,
   "id": "28d09db1",
   "metadata": {},
   "outputs": [],
   "source": [
    "chanels_stats = get_chanel_stats(youtube, chanel_ids)"
   ]
  },
  {
   "cell_type": "code",
   "execution_count": 7,
   "id": "f762d781",
   "metadata": {
    "scrolled": true
   },
   "outputs": [
    {
     "data": {
      "text/html": [
       "<div>\n",
       "<style scoped>\n",
       "    .dataframe tbody tr th:only-of-type {\n",
       "        vertical-align: middle;\n",
       "    }\n",
       "\n",
       "    .dataframe tbody tr th {\n",
       "        vertical-align: top;\n",
       "    }\n",
       "\n",
       "    .dataframe thead th {\n",
       "        text-align: right;\n",
       "    }\n",
       "</style>\n",
       "<table border=\"1\" class=\"dataframe\">\n",
       "  <thead>\n",
       "    <tr style=\"text-align: right;\">\n",
       "      <th></th>\n",
       "      <th>channelName</th>\n",
       "      <th>subscribers</th>\n",
       "      <th>views</th>\n",
       "      <th>totalVideos</th>\n",
       "      <th>playlistId</th>\n",
       "    </tr>\n",
       "  </thead>\n",
       "  <tbody>\n",
       "    <tr>\n",
       "      <th>0</th>\n",
       "      <td>Python Simplified</td>\n",
       "      <td>161000</td>\n",
       "      <td>5899903</td>\n",
       "      <td>124</td>\n",
       "      <td>UUKQdc0-Targ4nDIAUrlfKiA</td>\n",
       "    </tr>\n",
       "    <tr>\n",
       "      <th>1</th>\n",
       "      <td>Thu Vu data analytics</td>\n",
       "      <td>120000</td>\n",
       "      <td>3229822</td>\n",
       "      <td>58</td>\n",
       "      <td>UUJQJAI7IjbLcpsjWdSzYz0Q</td>\n",
       "    </tr>\n",
       "    <tr>\n",
       "      <th>2</th>\n",
       "      <td>The PyCoach</td>\n",
       "      <td>19900</td>\n",
       "      <td>1069253</td>\n",
       "      <td>49</td>\n",
       "      <td>UUqO40lbcG_j5R3imKDrYijQ</td>\n",
       "    </tr>\n",
       "    <tr>\n",
       "      <th>3</th>\n",
       "      <td>Internet Made Coder</td>\n",
       "      <td>214000</td>\n",
       "      <td>8560622</td>\n",
       "      <td>82</td>\n",
       "      <td>UUcJQ96WlEhJ0Ve0SLmU310Q</td>\n",
       "    </tr>\n",
       "    <tr>\n",
       "      <th>4</th>\n",
       "      <td>Kimberly Fessel</td>\n",
       "      <td>14500</td>\n",
       "      <td>710438</td>\n",
       "      <td>54</td>\n",
       "      <td>UUirb0k3PnuQnRjh8tTJHJuA</td>\n",
       "    </tr>\n",
       "  </tbody>\n",
       "</table>\n",
       "</div>"
      ],
      "text/plain": [
       "             channelName subscribers    views totalVideos  \\\n",
       "0      Python Simplified      161000  5899903         124   \n",
       "1  Thu Vu data analytics      120000  3229822          58   \n",
       "2            The PyCoach       19900  1069253          49   \n",
       "3    Internet Made Coder      214000  8560622          82   \n",
       "4        Kimberly Fessel       14500   710438          54   \n",
       "\n",
       "                 playlistId  \n",
       "0  UUKQdc0-Targ4nDIAUrlfKiA  \n",
       "1  UUJQJAI7IjbLcpsjWdSzYz0Q  \n",
       "2  UUqO40lbcG_j5R3imKDrYijQ  \n",
       "3  UUcJQ96WlEhJ0Ve0SLmU310Q  \n",
       "4  UUirb0k3PnuQnRjh8tTJHJuA  "
      ]
     },
     "execution_count": 7,
     "metadata": {},
     "output_type": "execute_result"
    }
   ],
   "source": [
    "chanels_stats"
   ]
  },
  {
   "cell_type": "code",
   "execution_count": 8,
   "id": "84b66563-9994-4661-ba44-53a2491ec00d",
   "metadata": {},
   "outputs": [],
   "source": [
    "# Convert count columns to numeric columns\n",
    "numeric_cols = ['subscribers', 'views', 'totalVideos']\n",
    "\n",
    "chanels_stats[numeric_cols] = chanels_stats[numeric_cols].astype('int64')"
   ]
  },
  {
   "cell_type": "code",
   "execution_count": 14,
   "id": "0c41c4ed-3bfb-4101-83ba-818407f687d5",
   "metadata": {
    "scrolled": false
   },
   "outputs": [
    {
     "data": {
      "image/png": "[encoded data removed]",
      "text/plain": [
       "<Figure size 800x500 with 1 Axes>"
      ]
     },
     "metadata": {},
     "output_type": "display_data"
    }
   ],
   "source": [
    "sns.set(rc={'figure.figsize':(8,5)})\n",
    "ax = sns.barplot(x='channelName', y='subscribers', data=chanels_stats.sort_values('subscribers', ascending=False))\n",
    "ax.yaxis.set_major_formatter(ticker.FuncFormatter(lambda x, pos: '{:,.0f}'.format(x/1000) + 'K'))\n",
    "plot = ax.set_xticklabels(ax.get_xticklabels(),rotation = 90)"
   ]
  },
  {
   "cell_type": "code",
   "execution_count": 15,
   "id": "262294b4-ac00-4b14-9a59-4d3b558a1a21",
   "metadata": {
    "scrolled": false
   },
   "outputs": [
    {
     "data": {
      "image/png": "[encoded data removed]",
      "text/plain": [
       "<Figure size 800x500 with 1 Axes>"
      ]
     },
     "metadata": {},
     "output_type": "display_data"
    }
   ],
   "source": [
    "ax = sns.barplot(x='channelName', y='views', data=chanels_stats.sort_values('views', ascending=False))\n",
    "ax.yaxis.set_major_formatter(ticker.FuncFormatter(lambda x, pos: '{:,.0f}'.format(x/1000) + 'K'))\n",
    "plot = ax.set_xticklabels(ax.get_xticklabels(),rotation = 90)"
   ]
  },
  {
   "cell_type": "code",
   "execution_count": 16,
   "id": "5ea77e67-b093-471b-8382-3b6be1452a80",
   "metadata": {},
   "outputs": [],
   "source": [
    "def get_video_ids(youtube, playlist_id):\n",
    "    \n",
    "    video_ids = []\n",
    "    \n",
    "    request = youtube.playlistItems().list(\n",
    "        part=\"snippet,contentDetails\",\n",
    "        playlistId=playlist_id,\n",
    "        maxResults = 50\n",
    "    )\n",
    "    response = request.execute()\n",
    "    \n",
    "    for item in response['items']:\n",
    "        video_ids.append(item['contentDetails']['videoId'])\n",
    "        \n",
    "    next_page_token = response.get('nextPageToken')\n",
    "    while next_page_token is not None:\n",
    "        request = youtube.playlistItems().list(\n",
    "                    part='contentDetails',\n",
    "                    playlistId = playlist_id,\n",
    "                    maxResults = 50,\n",
    "                    pageToken = next_page_token)\n",
    "        response = request.execute()\n",
    "\n",
    "        for item in response['items']:\n",
    "            video_ids.append(item['contentDetails']['videoId'])\n",
    "\n",
    "        next_page_token = response.get('nextPageToken')\n",
    "        \n",
    "    return video_ids\n",
    "\n",
    "\n",
    "\n",
    "def get_video_details(youtube, videos_ids):\n",
    "\n",
    "    all_video_info = []\n",
    "    \n",
    "    for i in range(0, len(video_ids), 50):\n",
    "        request = youtube.videos().list(\n",
    "            part=\"snippet,contentDetails,statistics\",\n",
    "            id=','.join(video_ids[i:i+50])\n",
    "        )\n",
    "        response = request.execute() \n",
    "\n",
    "        for video in response['items']:\n",
    "            stats_to_keep = {'snippet': ['channelTitle', 'title', 'description', 'tags', 'publishedAt'],\n",
    "                             'statistics': ['viewCount', 'likeCount', 'favouriteCount', 'commentCount'],\n",
    "                             'contentDetails': ['duration', 'definition', 'caption']\n",
    "                            }\n",
    "            video_info = {}\n",
    "            video_info['video_id'] = video['id']\n",
    "\n",
    "            for k in stats_to_keep.keys():\n",
    "                for v in stats_to_keep[k]:\n",
    "                    try:\n",
    "                        video_info[v] = video[k][v]\n",
    "                    except:\n",
    "                        video_info[v] = None\n",
    "\n",
    "            all_video_info.append(video_info)\n",
    "    \n",
    "    return pd.DataFrame(all_video_info)\n",
    "\n",
    "\n",
    "def get_comments_in_videos(youtube, videos_ids):\n",
    "\n",
    "    all_comments = []\n",
    "    \n",
    "    for video_id in videos_ids:\n",
    "        try:   \n",
    "            request = youtube.commentThreads().list(\n",
    "                part=\"snippet,replies\",\n",
    "                videoId=video_id\n",
    "            )\n",
    "            response = request.execute()\n",
    "        \n",
    "            comments_in_video = [comment['snippet']['topLevelComment']['snippet']['textOriginal'] for comment in response['items'][0:10]]\n",
    "            comments_in_video_info = {'video_id': video_id, 'comments': comments_in_video}\n",
    "\n",
    "            all_comments.append(comments_in_video_info)\n",
    "            \n",
    "        except: \n",
    "            # When error occurs - most likely because comments are disabled on a video\n",
    "            print('Could not get comments for video ' + video_id)\n",
    "        \n",
    "    return pd.DataFrame(all_comments)"
   ]
  },
  {
   "cell_type": "code",
   "execution_count": 21,
   "id": "1d9a1cfa-8ad1-4466-9778-5eb7496e67ff",
   "metadata": {
    "scrolled": false
   },
   "outputs": [
    {
     "data": {
      "text/html": [
       "<div>\n",
       "<style scoped>\n",
       "    .dataframe tbody tr th:only-of-type {\n",
       "        vertical-align: middle;\n",
       "    }\n",
       "\n",
       "    .dataframe tbody tr th {\n",
       "        vertical-align: top;\n",
       "    }\n",
       "\n",
       "    .dataframe thead th {\n",
       "        text-align: right;\n",
       "    }\n",
       "</style>\n",
       "<table border=\"1\" class=\"dataframe\">\n",
       "  <thead>\n",
       "    <tr style=\"text-align: right;\">\n",
       "      <th></th>\n",
       "      <th>video_id</th>\n",
       "      <th>comments</th>\n",
       "    </tr>\n",
       "  </thead>\n",
       "  <tbody>\n",
       "    <tr>\n",
       "      <th>0</th>\n",
       "      <td>YotbvhndSf4</td>\n",
       "      <td>[very nice, Very clearly explained, easy to un...</td>\n",
       "    </tr>\n",
       "    <tr>\n",
       "      <th>1</th>\n",
       "      <td>Eg0NJcUWLRM</td>\n",
       "      <td>[Thank you Kimberly. You made my data-viz to n...</td>\n",
       "    </tr>\n",
       "    <tr>\n",
       "      <th>2</th>\n",
       "      <td>2wRHBodrWuY</td>\n",
       "      <td>[how do you match a colour to a hue factor, th...</td>\n",
       "    </tr>\n",
       "    <tr>\n",
       "      <th>3</th>\n",
       "      <td>xSS59Ga64rQ</td>\n",
       "      <td>[Perfect! Thank you, Thank you so much, I love...</td>\n",
       "    </tr>\n",
       "    <tr>\n",
       "      <th>4</th>\n",
       "      <td>_FO8jUMa65M</td>\n",
       "      <td>[Thanks it helped!\\nw.r.t time = 6:43\\nJust ad...</td>\n",
       "    </tr>\n",
       "  </tbody>\n",
       "</table>\n",
       "</div>"
      ],
      "text/plain": [
       "      video_id                                           comments\n",
       "0  YotbvhndSf4  [very nice, Very clearly explained, easy to un...\n",
       "1  Eg0NJcUWLRM  [Thank you Kimberly. You made my data-viz to n...\n",
       "2  2wRHBodrWuY  [how do you match a colour to a hue factor, th...\n",
       "3  xSS59Ga64rQ  [Perfect! Thank you, Thank you so much, I love...\n",
       "4  _FO8jUMa65M  [Thanks it helped!\\nw.r.t time = 6:43\\nJust ad..."
      ]
     },
     "execution_count": 21,
     "metadata": {},
     "output_type": "execute_result"
    }
   ],
   "source": [
    "comments_data.head()"
   ]
  },
  {
   "cell_type": "markdown",
   "id": "730ebe75-8a41-41ec-bf34-cef7e466ceeb",
   "metadata": {},
   "source": [
    "### Get video statistics for all the channels"
   ]
  },
  {
   "cell_type": "code",
   "execution_count": 18,
   "id": "95fbf263-bb4e-4c5d-b9e6-e4878dbeb88e",
   "metadata": {},
   "outputs": [
    {
     "name": "stdout",
     "output_type": "stream",
     "text": [
      "Getting video information from channel: Python Simplified\n",
      "Getting video information from channel: Thu Vu data analytics\n",
      "Getting video information from channel: The PyCoach\n",
      "Getting video information from channel: Internet Made Coder\n",
      "Getting video information from channel: Kimberly Fessel\n"
     ]
    }
   ],
   "source": [
    "# Create a dataframe with video statistics and comments from all channels\n",
    "\n",
    "video_df = []\n",
    "comments_df = []\n",
    "\n",
    "for c in chanels_stats['channelName'].unique():\n",
    "    print(\"Getting video information from channel: \" + c)\n",
    "    playlist_id = chanels_stats.loc[chanels_stats['channelName']== c, 'playlistId'].iloc[0]\n",
    "    video_ids = get_video_ids(youtube, playlist_id)\n",
    "    \n",
    "    # get video data\n",
    "    video_data = get_video_details(youtube, video_ids)\n",
    "    # get comment data\n",
    "    comments_data = get_comments_in_videos(youtube, video_ids)\n",
    "    \n",
    "    video_df.append(video_data)\n",
    "    comments_df.append(comments_data)\n",
    "\n",
    "    \n",
    "    # append video data together and comment data toghether\n",
    "video_df = pd.concat(video_df, ignore_index=True)\n",
    "comments_df = pd.concat(comments_df, ignore_index=True)"
   ]
  },
  {
   "cell_type": "code",
   "execution_count": 19,
   "id": "adff0988",
   "metadata": {
    "tags": []
   },
   "outputs": [
    {
     "data": {
      "text/plain": [
       "((367, 13), (367, 2))"
      ]
     },
     "execution_count": 19,
     "metadata": {},
     "output_type": "execute_result"
    }
   ],
   "source": [
    "video_df.shape, comments_df.shape"
   ]
  },
  {
   "cell_type": "code",
   "execution_count": 22,
   "id": "00cfbe19",
   "metadata": {},
   "outputs": [],
   "source": [
    "video_df.to_csv('../output/video_youtube.csv',index = False)\n",
    "comments_df.to_csv('../output/comments_youtube.csv', index = False)"
   ]
  }
 ],
 "metadata": {
  "kernelspec": {
   "display_name": "api_youtube",
   "language": "python",
   "name": "api_youtube"
  },
  "language_info": {
   "codemirror_mode": {
    "name": "ipython",
    "version": 3
   },
   "file_extension": ".py",
   "mimetype": "text/x-python",
   "name": "python",
   "nbconvert_exporter": "python",
   "pygments_lexer": "ipython3",
   "version": "3.9.8"
  }
 },
 "nbformat": 4,
 "nbformat_minor": 5
}
