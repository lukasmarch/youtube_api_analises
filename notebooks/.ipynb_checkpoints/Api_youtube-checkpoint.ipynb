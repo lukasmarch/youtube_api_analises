{
 "cells": [
  {
   "cell_type": "markdown",
   "id": "6fa9e7ff-85c6-4161-8925-110ae575cb85",
   "metadata": {
    "tags": []
   },
   "source": [
    "### Get channel statistics"
   ]
  },
  {
   "cell_type": "code",
   "execution_count": 1,
   "id": "f2f537e2",
   "metadata": {},
   "outputs": [],
   "source": [
    "from googleapiclient.discovery import build\n",
    "\n",
    "from  os import environ\n",
    "\n",
    "import pandas as pd \n",
    "import numpy as np\n",
    "\n",
    "from dotenv import load_dotenv\n",
    "\n",
    "import matplotlib.ticker as ticker\n",
    "import matplotlib.pyplot  as plt\n",
    "import seaborn as sns\n",
    "\n",
    "from IPython.display import display, JSON"
   ]
  },
  {
   "cell_type": "code",
   "execution_count": 2,
   "id": "91ac0043",
   "metadata": {},
   "outputs": [],
   "source": [
    "chanel_ids = ['UCKQdc0-Targ4nDIAUrlfKiA', \n",
    "              'UCJQJAI7IjbLcpsjWdSzYz0Q',\n",
    "             'UCcJQ96WlEhJ0Ve0SLmU310Q',\n",
    "             'UCirb0k3PnuQnRjh8tTJHJuA',\n",
    "             'UCqO40lbcG_j5R3imKDrYijQ']\n",
    "\n",
    "load_dotenv()\n",
    "api_key = environ.get(\"api_key\")\n",
    "\n",
    "api_service_name = \"youtube\"\n",
    "api_version = \"v3\"\n",
    "\n",
    "# Get credentials and create an API client\n",
    "youtube = build(\n",
    "    api_service_name, api_version, developerKey = api_key)"
   ]
  },
  {
   "cell_type": "code",
   "execution_count": 3,
   "id": "086201b4",
   "metadata": {
    "scrolled": true
   },
   "outputs": [],
   "source": [
    "def get_chanel_stats(youtube, chanel_ids):\n",
    "\n",
    "    all_data  = []\n",
    "    \n",
    "    request = youtube.channels().list(\n",
    "        part=\"snippet,contentDetails,statistics\",\n",
    "        id=','.join(chanel_ids)\n",
    "    )\n",
    "    response = request.execute()\n",
    "    \n",
    "    # loop through items\n",
    "    for item in response['items']:\n",
    "        data = {'channelName': item['snippet']['title'],\n",
    "                'subscribers': item['statistics']['subscriberCount'],\n",
    "                'views': item['statistics']['viewCount'],\n",
    "                'totalVideos': item['statistics']['videoCount'],\n",
    "                'playlistId': item['contentDetails']['relatedPlaylists']['uploads']\n",
    "        }\n",
    "\n",
    "        all_data.append(data)\n",
    "    return(pd.DataFrame(all_data))\n",
    "\n"
   ]
  },
  {
   "cell_type": "code",
   "execution_count": 4,
   "id": "28d09db1",
   "metadata": {},
   "outputs": [],
   "source": [
    "chanels_stats = get_chanel_stats(youtube, chanel_ids)"
   ]
  },
  {
   "cell_type": "code",
   "execution_count": 5,
   "id": "f762d781",
   "metadata": {
    "scrolled": true
   },
   "outputs": [
    {
     "data": {
      "text/html": [
       "<div>\n",
       "<style scoped>\n",
       "    .dataframe tbody tr th:only-of-type {\n",
       "        vertical-align: middle;\n",
       "    }\n",
       "\n",
       "    .dataframe tbody tr th {\n",
       "        vertical-align: top;\n",
       "    }\n",
       "\n",
       "    .dataframe thead th {\n",
       "        text-align: right;\n",
       "    }\n",
       "</style>\n",
       "<table border=\"1\" class=\"dataframe\">\n",
       "  <thead>\n",
       "    <tr style=\"text-align: right;\">\n",
       "      <th></th>\n",
       "      <th>channelName</th>\n",
       "      <th>subscribers</th>\n",
       "      <th>views</th>\n",
       "      <th>totalVideos</th>\n",
       "      <th>playlistId</th>\n",
       "    </tr>\n",
       "  </thead>\n",
       "  <tbody>\n",
       "    <tr>\n",
       "      <th>0</th>\n",
       "      <td>Thu Vu data analytics</td>\n",
       "      <td>102000</td>\n",
       "      <td>2514288</td>\n",
       "      <td>53</td>\n",
       "      <td>UUJQJAI7IjbLcpsjWdSzYz0Q</td>\n",
       "    </tr>\n",
       "    <tr>\n",
       "      <th>1</th>\n",
       "      <td>Internet Made Coder</td>\n",
       "      <td>183000</td>\n",
       "      <td>6930248</td>\n",
       "      <td>70</td>\n",
       "      <td>UUcJQ96WlEhJ0Ve0SLmU310Q</td>\n",
       "    </tr>\n",
       "    <tr>\n",
       "      <th>2</th>\n",
       "      <td>Python Simplified</td>\n",
       "      <td>137000</td>\n",
       "      <td>5010485</td>\n",
       "      <td>115</td>\n",
       "      <td>UUKQdc0-Targ4nDIAUrlfKiA</td>\n",
       "    </tr>\n",
       "    <tr>\n",
       "      <th>3</th>\n",
       "      <td>Kimberly Fessel</td>\n",
       "      <td>13700</td>\n",
       "      <td>652696</td>\n",
       "      <td>54</td>\n",
       "      <td>UUirb0k3PnuQnRjh8tTJHJuA</td>\n",
       "    </tr>\n",
       "    <tr>\n",
       "      <th>4</th>\n",
       "      <td>Frank Andrade</td>\n",
       "      <td>7790</td>\n",
       "      <td>288977</td>\n",
       "      <td>43</td>\n",
       "      <td>UUqO40lbcG_j5R3imKDrYijQ</td>\n",
       "    </tr>\n",
       "  </tbody>\n",
       "</table>\n",
       "</div>"
      ],
      "text/plain": [
       "             channelName subscribers    views totalVideos  \\\n",
       "0  Thu Vu data analytics      102000  2514288          53   \n",
       "1    Internet Made Coder      183000  6930248          70   \n",
       "2      Python Simplified      137000  5010485         115   \n",
       "3        Kimberly Fessel       13700   652696          54   \n",
       "4          Frank Andrade        7790   288977          43   \n",
       "\n",
       "                 playlistId  \n",
       "0  UUJQJAI7IjbLcpsjWdSzYz0Q  \n",
       "1  UUcJQ96WlEhJ0Ve0SLmU310Q  \n",
       "2  UUKQdc0-Targ4nDIAUrlfKiA  \n",
       "3  UUirb0k3PnuQnRjh8tTJHJuA  \n",
       "4  UUqO40lbcG_j5R3imKDrYijQ  "
      ]
     },
     "execution_count": 5,
     "metadata": {},
     "output_type": "execute_result"
    }
   ],
   "source": [
    "chanels_stats"
   ]
  },
  {
   "cell_type": "code",
   "execution_count": 33,
   "id": "84b66563-9994-4661-ba44-53a2491ec00d",
   "metadata": {},
   "outputs": [],
   "source": [
    "# Convert count columns to numeric columns\n",
    "numeric_cols = ['subscribers', 'views', 'totalVideos']\n",
    "\n",
    "chanels_stats[numeric_cols] = chanels_stats[numeric_cols].astype('int64')"
   ]
  },
  {
   "cell_type": "code",
   "execution_count": 34,
   "id": "0c41c4ed-3bfb-4101-83ba-818407f687d5",
   "metadata": {},
   "outputs": [
    {
     "data": {
      "image/png": "[encoded data removed]",
      "text/plain": [
       "<Figure size 720x576 with 1 Axes>"
      ]
     },
     "metadata": {},
     "output_type": "display_data"
    }
   ],
   "source": [
    "sns.set(rc={'figure.figsize':(10,8)})\n",
    "ax = sns.barplot(x='channelName', y='subscribers', data=chanels_stats.sort_values('subscribers', ascending=False))\n",
    "ax.yaxis.set_major_formatter(ticker.FuncFormatter(lambda x, pos: '{:,.0f}'.format(x/1000) + 'K'))\n",
    "plot = ax.set_xticklabels(ax.get_xticklabels(),rotation = 90)"
   ]
  },
  {
   "cell_type": "code",
   "execution_count": 38,
   "id": "262294b4-ac00-4b14-9a59-4d3b558a1a21",
   "metadata": {},
   "outputs": [
    {
     "data": {
      "image/png": "[encoded data removed]",
      "text/plain": [
       "<Figure size 720x576 with 1 Axes>"
      ]
     },
     "metadata": {},
     "output_type": "display_data"
    }
   ],
   "source": [
    "ax = sns.barplot(x='channelName', y='views', data=chanels_stats.sort_values('views', ascending=False))\n",
    "ax.yaxis.set_major_formatter(ticker.FuncFormatter(lambda x, pos: '{:,.0f}'.format(x/1000) + 'K'))\n",
    "plot = ax.set_xticklabels(ax.get_xticklabels(),rotation = 90)"
   ]
  },
  {
   "cell_type": "code",
   "execution_count": 6,
   "id": "5ea77e67-b093-471b-8382-3b6be1452a80",
   "metadata": {},
   "outputs": [],
   "source": [
    "def get_video_ids(youtube, playlist_id):\n",
    "    \n",
    "    video_ids = []\n",
    "    \n",
    "    request = youtube.playlistItems().list(\n",
    "        part=\"snippet,contentDetails\",\n",
    "        playlistId=playlist_id,\n",
    "        maxResults = 50\n",
    "    )\n",
    "    response = request.execute()\n",
    "    \n",
    "    for item in response['items']:\n",
    "        video_ids.append(item['contentDetails']['videoId'])\n",
    "        \n",
    "    next_page_token = response.get('nextPageToken')\n",
    "    while next_page_token is not None:\n",
    "        request = youtube.playlistItems().list(\n",
    "                    part='contentDetails',\n",
    "                    playlistId = playlist_id,\n",
    "                    maxResults = 50,\n",
    "                    pageToken = next_page_token)\n",
    "        response = request.execute()\n",
    "\n",
    "        for item in response['items']:\n",
    "            video_ids.append(item['contentDetails']['videoId'])\n",
    "\n",
    "        next_page_token = response.get('nextPageToken')\n",
    "        \n",
    "    return video_ids\n",
    "\n",
    "\n",
    "\n",
    "def get_video_details(youtube, videos_ids):\n",
    "\n",
    "    all_video_info = []\n",
    "    \n",
    "    for i in range(0, len(video_ids), 50):\n",
    "        request = youtube.videos().list(\n",
    "            part=\"snippet,contentDetails,statistics\",\n",
    "            id=','.join(video_ids[i:i+50])\n",
    "        )\n",
    "        response = request.execute() \n",
    "\n",
    "        for video in response['items']:\n",
    "            stats_to_keep = {'snippet': ['channelTitle', 'title', 'description', 'tags', 'publishedAt'],\n",
    "                             'statistics': ['viewCount', 'likeCount', 'favouriteCount', 'commentCount'],\n",
    "                             'contentDetails': ['duration', 'definition', 'caption']\n",
    "                            }\n",
    "            video_info = {}\n",
    "            video_info['video_id'] = video['id']\n",
    "\n",
    "            for k in stats_to_keep.keys():\n",
    "                for v in stats_to_keep[k]:\n",
    "                    try:\n",
    "                        video_info[v] = video[k][v]\n",
    "                    except:\n",
    "                        video_info[v] = None\n",
    "\n",
    "            all_video_info.append(video_info)\n",
    "    \n",
    "    return pd.DataFrame(all_video_info)\n",
    "\n",
    "\n",
    "def get_comments_in_videos(youtube, videos_ids):\n",
    "\n",
    "    all_comments = []\n",
    "    \n",
    "    for video_id in videos_ids:\n",
    "        try:   \n",
    "            request = youtube.commentThreads().list(\n",
    "                part=\"snippet,replies\",\n",
    "                videoId=video_id\n",
    "            )\n",
    "            response = request.execute()\n",
    "        \n",
    "            comments_in_video = [comment['snippet']['topLevelComment']['snippet']['textOriginal'] for comment in response['items'][0:10]]\n",
    "            comments_in_video_info = {'video_id': video_id, 'comments': comments_in_video}\n",
    "\n",
    "            all_comments.append(comments_in_video_info)\n",
    "            \n",
    "        except: \n",
    "            # When error occurs - most likely because comments are disabled on a video\n",
    "            print('Could not get comments for video ' + video_id)\n",
    "        \n",
    "    return pd.DataFrame(all_comments)"
   ]
  },
  {
   "cell_type": "code",
   "execution_count": 60,
   "id": "1d9a1cfa-8ad1-4466-9778-5eb7496e67ff",
   "metadata": {},
   "outputs": [
    {
     "data": {
      "text/html": [
       "<div>\n",
       "<style scoped>\n",
       "    .dataframe tbody tr th:only-of-type {\n",
       "        vertical-align: middle;\n",
       "    }\n",
       "\n",
       "    .dataframe tbody tr th {\n",
       "        vertical-align: top;\n",
       "    }\n",
       "\n",
       "    .dataframe thead th {\n",
       "        text-align: right;\n",
       "    }\n",
       "</style>\n",
       "<table border=\"1\" class=\"dataframe\">\n",
       "  <thead>\n",
       "    <tr style=\"text-align: right;\">\n",
       "      <th></th>\n",
       "      <th>video_id</th>\n",
       "      <th>comments</th>\n",
       "    </tr>\n",
       "  </thead>\n",
       "  <tbody>\n",
       "    <tr>\n",
       "      <th>0</th>\n",
       "      <td>NB5LGzmSiCs</td>\n",
       "      <td>[I came here to learn but to be honest I got s...</td>\n",
       "    </tr>\n",
       "    <tr>\n",
       "      <th>1</th>\n",
       "      <td>P7NbYXCvxtA</td>\n",
       "      <td>[lets get smarried, I am ready , my bitch. How...</td>\n",
       "    </tr>\n",
       "    <tr>\n",
       "      <th>2</th>\n",
       "      <td>1xukOX3gBE4</td>\n",
       "      <td>[Respectfully Maria, could you share any info ...</td>\n",
       "    </tr>\n",
       "    <tr>\n",
       "      <th>3</th>\n",
       "      <td>ibVSPVz2LAA</td>\n",
       "      <td>[Unit tests should never duplicate code or tes...</td>\n",
       "    </tr>\n",
       "    <tr>\n",
       "      <th>4</th>\n",
       "      <td>YfZqVmWq33o</td>\n",
       "      <td>[🎉🎉 do you like coffee? What kind of coffee yo...</td>\n",
       "    </tr>\n",
       "    <tr>\n",
       "      <th>...</th>\n",
       "      <td>...</td>\n",
       "      <td>...</td>\n",
       "    </tr>\n",
       "    <tr>\n",
       "      <th>110</th>\n",
       "      <td>VDg8fCW8LdM</td>\n",
       "      <td>[Can you teach Artificial intelligence RNN, CN...</td>\n",
       "    </tr>\n",
       "    <tr>\n",
       "      <th>111</th>\n",
       "      <td>3YUfWCjCcko</td>\n",
       "      <td>[the best thing on the video is she 🤣😅😅, Thank...</td>\n",
       "    </tr>\n",
       "    <tr>\n",
       "      <th>112</th>\n",
       "      <td>xUhPxj8if0U</td>\n",
       "      <td>[Thanks mam🙏 you are a blessing for us beginne...</td>\n",
       "    </tr>\n",
       "    <tr>\n",
       "      <th>113</th>\n",
       "      <td>jp_3NOKHn9c</td>\n",
       "      <td>[Super Duper , great video... but your pronunc...</td>\n",
       "    </tr>\n",
       "    <tr>\n",
       "      <th>114</th>\n",
       "      <td>wmgyXK84TR0</td>\n",
       "      <td>[Excellent!, Hey M, how are you doing today?? ...</td>\n",
       "    </tr>\n",
       "  </tbody>\n",
       "</table>\n",
       "<p>115 rows × 2 columns</p>\n",
       "</div>"
      ],
      "text/plain": [
       "        video_id                                           comments\n",
       "0    NB5LGzmSiCs  [I came here to learn but to be honest I got s...\n",
       "1    P7NbYXCvxtA  [lets get smarried, I am ready , my bitch. How...\n",
       "2    1xukOX3gBE4  [Respectfully Maria, could you share any info ...\n",
       "3    ibVSPVz2LAA  [Unit tests should never duplicate code or tes...\n",
       "4    YfZqVmWq33o  [🎉🎉 do you like coffee? What kind of coffee yo...\n",
       "..           ...                                                ...\n",
       "110  VDg8fCW8LdM  [Can you teach Artificial intelligence RNN, CN...\n",
       "111  3YUfWCjCcko  [the best thing on the video is she 🤣😅😅, Thank...\n",
       "112  xUhPxj8if0U  [Thanks mam🙏 you are a blessing for us beginne...\n",
       "113  jp_3NOKHn9c  [Super Duper , great video... but your pronunc...\n",
       "114  wmgyXK84TR0  [Excellent!, Hey M, how are you doing today?? ...\n",
       "\n",
       "[115 rows x 2 columns]"
      ]
     },
     "execution_count": 60,
     "metadata": {},
     "output_type": "execute_result"
    }
   ],
   "source": [
    "comments_data"
   ]
  },
  {
   "cell_type": "markdown",
   "id": "730ebe75-8a41-41ec-bf34-cef7e466ceeb",
   "metadata": {},
   "source": [
    "### Get video statistics for all the channels"
   ]
  },
  {
   "cell_type": "code",
   "execution_count": 10,
   "id": "95fbf263-bb4e-4c5d-b9e6-e4878dbeb88e",
   "metadata": {},
   "outputs": [
    {
     "name": "stdout",
     "output_type": "stream",
     "text": [
      "Getting video information from channel: Thu Vu data analytics\n",
      "Getting video information from channel: Internet Made Coder\n",
      "Getting video information from channel: Python Simplified\n",
      "Getting video information from channel: Kimberly Fessel\n",
      "Getting video information from channel: Frank Andrade\n"
     ]
    }
   ],
   "source": [
    "# Create a dataframe with video statistics and comments from all channels\n",
    "\n",
    "video_df = []\n",
    "comments_df = []\n",
    "\n",
    "for c in chanels_stats['channelName'].unique():\n",
    "    print(\"Getting video information from channel: \" + c)\n",
    "    playlist_id = chanels_stats.loc[chanels_stats['channelName']== c, 'playlistId'].iloc[0]\n",
    "    video_ids = get_video_ids(youtube, playlist_id)\n",
    "    \n",
    "    # get video data\n",
    "    video_data = get_video_details(youtube, video_ids)\n",
    "    # get comment data\n",
    "    comments_data = get_comments_in_videos(youtube, video_ids)\n",
    "    \n",
    "    video_df.append(video_data)\n",
    "    comments_df.append(comments_data)\n",
    "\n",
    "    \n",
    "    # append video data together and comment data toghether\n",
    "video_df = pd.concat(video_df, ignore_index=True)\n",
    "comments_df = pd.concat(comments_df, ignore_index=True)"
   ]
  },
  {
   "cell_type": "code",
   "execution_count": 11,
   "id": "adff0988",
   "metadata": {
    "tags": []
   },
   "outputs": [
    {
     "data": {
      "text/plain": [
       "((336, 13), (336, 2))"
      ]
     },
     "execution_count": 11,
     "metadata": {},
     "output_type": "execute_result"
    }
   ],
   "source": [
    "video_df.shape, comments_df.shape"
   ]
  },
  {
   "cell_type": "code",
   "execution_count": 12,
   "id": "00cfbe19",
   "metadata": {},
   "outputs": [],
   "source": [
    "video_df.to_csv('../output/video_youtube.csv',index = False)\n",
    "comments_df.to_csv('../output/comments_youtube.csv', index = False)"
   ]
  }
 ],
 "metadata": {
  "kernelspec": {
   "display_name": "api_youtube",
   "language": "python",
   "name": "api_youtube"
  },
  "language_info": {
   "codemirror_mode": {
    "name": "ipython",
    "version": 3
   },
   "file_extension": ".py",
   "mimetype": "text/x-python",
   "name": "python",
   "nbconvert_exporter": "python",
   "pygments_lexer": "ipython3",
   "version": "3.9.8"
  }
 },
 "nbformat": 4,
 "nbformat_minor": 5
}
